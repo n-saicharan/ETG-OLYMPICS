{
  "nbformat": 4,
  "nbformat_minor": 0,
  "metadata": {
    "colab": {
      "name": "Summer.ipynb",
      "provenance": [],
      "collapsed_sections": []
    },
    "kernelspec": {
      "name": "python3",
      "display_name": "Python 3"
    },
    "language_info": {
      "name": "python"
    }
  },
  "cells": [
    {
      "cell_type": "markdown",
      "metadata": {
        "id": "9xyRo_ypR8F5"
      },
      "source": [
        "# Summer Olympics Data Analysis Assignment"
      ]
    },
    {
      "cell_type": "markdown",
      "metadata": {
        "id": "7lJavnyjR94Y"
      },
      "source": [
        "### 1. In how many cities Summer Olympics is held so far?"
      ]
    },
    {
      "cell_type": "code",
      "metadata": {
        "colab": {
          "base_uri": "https://localhost:8080/"
        },
        "id": "PXRY6mwhRyVl",
        "outputId": "d11082b6-5a22-43a8-c8a2-bfd35640475b"
      },
      "source": [
        "import pandas as pd\n",
        "df = pd.read_csv(\"summer.csv\")\n",
        "\n",
        "df = pd.read_csv(\"summer.csv\")\n",
        "len(df[\"City\"].unique())"
      ],
      "execution_count": 13,
      "outputs": [
        {
          "output_type": "execute_result",
          "data": {
            "text/plain": [
              "22"
            ]
          },
          "metadata": {},
          "execution_count": 13
        }
      ]
    },
    {
      "cell_type": "markdown",
      "metadata": {
        "id": "VUo2c2o8SCCZ"
      },
      "source": [
        "### 2. Which sport is having most number of Gold Medals so far? (Top 5)"
      ]
    },
    {
      "cell_type": "code",
      "metadata": {
        "colab": {
          "base_uri": "https://localhost:8080/",
          "height": 399
        },
        "id": "Ct7TGhEiR1Mm",
        "outputId": "c28a26b1-a0aa-4d8f-ec1a-06bd411c86f9"
      },
      "source": [
        "df_gold = df[df['Medal']=='Gold']\n",
        "lst_gold = []\n",
        "for sport in df_gold['Sport'].unique() :\n",
        "  lst_gold.append([sport,len(df_gold[df_gold['Sport']==sport])])\n",
        "\n",
        "pd.DataFrame(lst_gold,columns = ['Sport','freq in Gold']).sort_values(by='freq in Gold', ascending=False).head().plot(x = 'Sport', y = 'freq in Gold', kind = 'bar', figsize = (5,5))\n"
      ],
      "execution_count": 23,
      "outputs": [
        {
          "output_type": "execute_result",
          "data": {
            "text/plain": [
              "<matplotlib.axes._subplots.AxesSubplot at 0x7f6ac7912ad0>"
            ]
          },
          "metadata": {},
          "execution_count": 23
        },
        {
          "output_type": "display_data",
          "data": {
            "image/png": "[encoded data removed]",
            "text/plain": [
              "<Figure size 360x360 with 1 Axes>"
            ]
          },
          "metadata": {
            "needs_background": "light"
          }
        }
      ]
    },
    {
      "cell_type": "markdown",
      "metadata": {
        "id": "7ySDc7ckSG2n"
      },
      "source": [
        "### 3. Which sport is having most number of medals so far? (Top 5)"
      ]
    },
    {
      "cell_type": "code",
      "metadata": {
        "colab": {
          "base_uri": "https://localhost:8080/",
          "height": 399
        },
        "id": "lmLaeRthSNkv",
        "outputId": "a0a2ad9f-891b-464d-ccde-069288de9c3a"
      },
      "source": [
        "sport_lst = []\n",
        "\n",
        "for sport in df['Sport'].unique() :\n",
        "  sport_lst.append([sport,len(df[df['Sport']==sport])])\n",
        "\n",
        "sport_lst = pd.DataFrame(sport_lst,columns = [\"Sport\",\"freq\"]).sort_values(by = \"freq\",ascending = False).head()\n",
        "sport_lst.plot(x = \"Sport\" , y = \"freq\" , kind = 'bar' , figsize = (5,5))\n"
      ],
      "execution_count": 30,
      "outputs": [
        {
          "output_type": "execute_result",
          "data": {
            "text/plain": [
              "<matplotlib.axes._subplots.AxesSubplot at 0x7f6ac7850ad0>"
            ]
          },
          "metadata": {},
          "execution_count": 30
        },
        {
          "output_type": "display_data",
          "data": {
            "image/png": "[encoded data removed]",
            "text/plain": [
              "<Figure size 360x360 with 1 Axes>"
            ]
          },
          "metadata": {
            "needs_background": "light"
          }
        }
      ]
    },
    {
      "cell_type": "markdown",
      "metadata": {
        "id": "6n8ehywASlcA"
      },
      "source": [
        "### 4. Which player has won most number of medals? (Top 5)"
      ]
    },
    {
      "cell_type": "code",
      "metadata": {
        "colab": {
          "base_uri": "https://localhost:8080/",
          "height": 459
        },
        "id": "jDjQYSwPSmUJ",
        "outputId": "a689fb03-d8f4-4143-bc12-a21172095f16"
      },
      "source": [
        "player_lst = []\n",
        "\n",
        "for player in df['Athlete'].unique() :\n",
        "  player_lst.append([player,len(df[df['Athlete']==player])])\n",
        "\n",
        "player_lst = pd.DataFrame(player_lst,columns = [\"player\",\"freq\"]).sort_values(by = \"freq\",ascending = False).head()\n",
        "player_lst.plot(x = \"player\" , y = \"freq\" , kind = 'bar' , figsize = (5,5))\n"
      ],
      "execution_count": 32,
      "outputs": [
        {
          "output_type": "execute_result",
          "data": {
            "text/plain": [
              "<matplotlib.axes._subplots.AxesSubplot at 0x7f6ac776fed0>"
            ]
          },
          "metadata": {},
          "execution_count": 32
        },
        {
          "output_type": "display_data",
          "data": {
            "image/png": "[encoded data removed]",
            "text/plain": [
              "<Figure size 360x360 with 1 Axes>"
            ]
          },
          "metadata": {
            "needs_background": "light"
          }
        }
      ]
    },
    {
      "cell_type": "markdown",
      "metadata": {
        "id": "-MtLJc4wSm7k"
      },
      "source": [
        "### 5. Which player has won most number Gold Medals of medals? (Top 5)"
      ]
    },
    {
      "cell_type": "code",
      "metadata": {
        "colab": {
          "base_uri": "https://localhost:8080/",
          "height": 427
        },
        "id": "bJiFiEctSsjk",
        "outputId": "7fcf2dc9-a7d6-449f-a2e8-18eaf5f1bb88"
      },
      "source": [
        "df_gold = df[df['Medal']=='Gold']\n",
        "\n",
        "lst_gold = []\n",
        "for player in df_gold['Athlete'].unique() :\n",
        "  lst_gold.append([player,len(df_gold[df_gold['Athlete']==player])])\n",
        "\n",
        "pd.DataFrame(lst_gold,columns = ['player','freq in Gold']).sort_values(by='freq in Gold', ascending=False).head().plot(x = 'player', y = 'freq in Gold', kind = 'bar', figsize = (5,5))\n"
      ],
      "execution_count": 33,
      "outputs": [
        {
          "output_type": "execute_result",
          "data": {
            "text/plain": [
              "<matplotlib.axes._subplots.AxesSubplot at 0x7f6ac803b6d0>"
            ]
          },
          "metadata": {},
          "execution_count": 33
        },
        {
          "output_type": "display_data",
          "data": {
            "image/png": "[encoded data removed]",
            "text/plain": [
              "<Figure size 360x360 with 1 Axes>"
            ]
          },
          "metadata": {
            "needs_background": "light"
          }
        }
      ]
    },
    {
      "cell_type": "markdown",
      "metadata": {
        "id": "UZuQZiEPStA1"
      },
      "source": [
        "### 6. In which year India won first Gold Medal in Summer Olympics?"
      ]
    },
    {
      "cell_type": "code",
      "metadata": {
        "colab": {
          "base_uri": "https://localhost:8080/"
        },
        "id": "Y9ltwd98Sw2R",
        "outputId": "1ec9d27c-ade3-4036-efbb-41f6598e059a"
      },
      "source": [
        "min(df_gold[df_gold['Country'] == \"IND\"]['Year'])"
      ],
      "execution_count": 40,
      "outputs": [
        {
          "output_type": "execute_result",
          "data": {
            "text/plain": [
              "1928"
            ]
          },
          "metadata": {},
          "execution_count": 40
        }
      ]
    },
    {
      "cell_type": "markdown",
      "metadata": {
        "id": "vT4_k4gxS0RY"
      },
      "source": [
        "### 7. Which event is most popular in terms on number of players? (Top 5)"
      ]
    },
    {
      "cell_type": "code",
      "metadata": {
        "colab": {
          "base_uri": "https://localhost:8080/",
          "height": 377
        },
        "id": "SRR5g92pS1EL",
        "outputId": "71a6e02c-2dc7-4ca6-84e6-59f4fa9cfed0"
      },
      "source": [
        "df.groupby(\"Event\").count()[\"Athlete\"].sort_values(ascending = False).head().plot(kind = 'bar')"
      ],
      "execution_count": 43,
      "outputs": [
        {
          "output_type": "execute_result",
          "data": {
            "text/plain": [
              "<matplotlib.axes._subplots.AxesSubplot at 0x7f6ac8581f50>"
            ]
          },
          "metadata": {},
          "execution_count": 43
        },
        {
          "output_type": "display_data",
          "data": {
            "image/png": "[encoded data removed]",
            "text/plain": [
              "<Figure size 432x288 with 1 Axes>"
            ]
          },
          "metadata": {
            "needs_background": "light"
          }
        }
      ]
    },
    {
      "cell_type": "markdown",
      "metadata": {
        "id": "1SehQsdzS1nt"
      },
      "source": [
        "### 8. Which sport is having most female Gold Medalists? (Top 5)"
      ]
    },
    {
      "cell_type": "code",
      "metadata": {
        "colab": {
          "base_uri": "https://localhost:8080/",
          "height": 345
        },
        "id": "BkeSWB4dS5Pd",
        "outputId": "95209097-85d6-489f-dc5d-76866ea350eb"
      },
      "source": [
        "female_gold = df_gold[df_gold['Gender']==\"Women\"]\n",
        "lst = []\n",
        "\n",
        "for sport in female_gold['Sport'].unique() :\n",
        "  lst.append([sport,len(female_gold[female_gold['Sport']==sport])])\n",
        "\n",
        "pd.DataFrame(lst,columns=['sport','freq']).sort_values(by = 'freq',ascending = False).head().plot(x= 'sport',y='freq',kind='bar')"
      ],
      "execution_count": 50,
      "outputs": [
        {
          "output_type": "execute_result",
          "data": {
            "text/plain": [
              "<matplotlib.axes._subplots.AxesSubplot at 0x7f6ac75d5890>"
            ]
          },
          "metadata": {},
          "execution_count": 50
        },
        {
          "output_type": "display_data",
          "data": {
            "image/png": "[encoded data removed]",
            "text/plain": [
              "<Figure size 432x288 with 1 Axes>"
            ]
          },
          "metadata": {
            "needs_background": "light"
          }
        }
      ]
    }
  ]
}